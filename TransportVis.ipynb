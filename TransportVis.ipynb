{
 "cells": [
  {
   "cell_type": "markdown",
   "metadata": {},
   "source": [
    "# Sydney Toll Roads - Fun for the whole family\n",
    "All the toll data in sydney is availble for free download! How nice of them. Let's explore the data and find out some interesting insights. Firstly download the data.... This can probably be done in Python - but I find it super easy in BASH. Or you can manually download it too, but that is no fun."
   ]
  },
  {
   "cell_type": "raw",
   "metadata": {},
   "source": [
    "#https://nswtollroaddata.com/data-download/\n",
    "#Download most of the data in one go\n",
    "for i in {1..9}; do echo $i;for j in {1..4}; do echo $j; wget https://s3.ap-southeast-2.amazonaws.com/accc-assetdata-prod/data/accc/upload/asset/CCT/CCT_traffic-data_FY201${i}_Q${j}_csv.zip; done; done\n",
    "\n",
    "#unzip it all\n",
    "unzip '*.zip'\n",
    "\n",
    "for i in {9..19}; do echo $i;for j in {1..4}; do echo $j; wget https://s3.ap-southeast-2.amazonaws.com/accc-assetdata-prod/data/accc/upload/asset/M2/M2_traffic-data_FY20${i}_Q${j}_csv.zip; done; done\n",
    "\n",
    "for i in {0..9}; do echo $i;for j in {1..4}; do echo $j; wget https://s3.ap-southeast-2.amazonaws.com/accc-assetdata-prod/data/accc/upload/asset/LCT/LCT_traffic-data_FY201${i}_Q${j}_csv.zip; done; done\n",
    "\n",
    "for i in {10..19}; do echo $i;for j in {1..4}; do echo $j; wget https://s3.ap-southeast-2.amazonaws.com/accc-assetdata-prod/data/accc/upload/asset/ED/ED_traffic-data_FY20${i}_Q${j}_csv.zip; done; done\n",
    "\n",
    "for i in {10..19}; do echo $i;for j in {1..4}; do echo $j; wget https://s3.ap-southeast-2.amazonaws.com/accc-assetdata-prod/data/accc/upload/asset/M5/M5_traffic-data_FY20${i}_Q${j}_csv.zip; done; done\n",
    "\n",
    "for i in {10..19}; do echo $i;for j in {1..4}; do echo $j; wget https://s3.ap-southeast-2.amazonaws.com/accc-assetdata-prod/data/accc/upload/asset/M7/M7_traffic-data_FY20${i}_Q${j}_csv.zip; done; done"
   ]
  },
  {
   "cell_type": "code",
   "execution_count": 1,
   "metadata": {},
   "outputs": [],
   "source": [
    "#Import the modules we will need\n",
    "import pandas as pd\n",
    "import numpy as np\n",
    "import glob\n",
    "from matplotlib import pyplot as plt\n",
    "import matplotlib.patches as mpatches"
   ]
  },
  {
   "cell_type": "code",
   "execution_count": null,
   "metadata": {},
   "outputs": [],
   "source": [
    "#Load in a single data chunk\n",
    "filename='data/CCT_trips_2017-11.csv'\n",
    "df=pd.read_csv(filename,header = 0,parse_dates=[['Date', 'IntervalStart']])"
   ]
  },
  {
   "cell_type": "code",
   "execution_count": 2,
   "metadata": {},
   "outputs": [
    {
     "name": "stdout",
     "output_type": "stream",
     "text": [
      "Done\n"
     ]
    }
   ],
   "source": [
    "#Or load in more data, like all the CCT data\n",
    "all_files = glob.glob(\"data/CCT*.csv\")\n",
    "li = []\n",
    "for filename in all_files:\n",
    "    df = pd.read_csv(filename, index_col=None, header=0,parse_dates=[['Date', 'IntervalStart']])\n",
    "    li.append(df)\n",
    "    \n",
    "df = pd.concat(li, axis=0, ignore_index=True)\n",
    "print(\"Done\")"
   ]
  },
  {
   "cell_type": "code",
   "execution_count": null,
   "metadata": {},
   "outputs": [],
   "source": [
    "#What does it look like?\n",
    "df.head()"
   ]
  },
  {
   "cell_type": "code",
   "execution_count": null,
   "metadata": {},
   "outputs": [],
   "source": [
    "df.describe()"
   ]
  },
  {
   "cell_type": "code",
   "execution_count": null,
   "metadata": {},
   "outputs": [],
   "source": [
    "#Plot all the data, just time vs volume\n",
    "plt.figure(figsize=(12,8)) \n",
    "plt.plot(df[\"Date_IntervalStart\"],df[\"TotalVolume\"].values,\n",
    "         color='black', marker='.',markersize=0.2,linewidth=0.0)\n",
    "\n",
    "plt.xlabel('Date',fontsize=12)\n",
    "plt.ylabel('Traffic Volume')\n",
    "plt.xticks(rotation=15)"
   ]
  },
  {
   "cell_type": "code",
   "execution_count": null,
   "metadata": {},
   "outputs": [],
   "source": [
    "\"{:,} Total Trips\".format(df[\"TotalVolume\"].sum())"
   ]
  },
  {
   "cell_type": "code",
   "execution_count": null,
   "metadata": {},
   "outputs": [],
   "source": [
    "print(\"By my count that is about \", 135230287/10/365/24/60, \" per minute\")\n",
    "print(\"At $5 a trip, that is a good income - just for the Cross City Tunnel.\")"
   ]
  },
  {
   "cell_type": "code",
   "execution_count": 3,
   "metadata": {},
   "outputs": [],
   "source": [
    "#Break up the data into interesting pieces.\n",
    "#Trucks or Cars, and where they have joined the tunnel\n",
    "ix_car=df.loc[(df['VehicleClass']=='Car')]\n",
    "ix_truck=df.loc[(df['VehicleClass']=='Truck')]\n",
    "\n",
    "ix_carE=df.loc[(df['VehicleClass']=='Car') & (df['GantryDirection']=='E')]\n",
    "ix_carN=df.loc[(df['VehicleClass']=='Car') & (df['GantryDirection']=='N')]\n",
    "ix_carW=df.loc[(df['VehicleClass']=='Car') & (df['GantryDirection']=='W')]\n",
    "\n",
    "ix_truckE=df.loc[(df['VehicleClass']=='Truck') & (df['GantryDirection']=='E')]\n",
    "ix_truckN=df.loc[(df['VehicleClass']=='Truck') & (df['GantryDirection']=='N')]\n",
    "ix_truckW=df.loc[(df['VehicleClass']=='Truck') & (df['GantryDirection']=='W')]"
   ]
  },
  {
   "cell_type": "code",
   "execution_count": null,
   "metadata": {},
   "outputs": [],
   "source": [
    "#Now mkae the same plot again, but plot each car/truck/entry seperately\n",
    "\n",
    "#volume=pd.Series(df[\"TotalVolume\"].values)\n",
    "plt.figure(figsize=(12,8)) \n",
    "\n",
    "l1=plt.plot(ix_carN[\"Date_IntervalStart\"],ix_carN[\"TotalVolume\"].values,\n",
    "         color='#fc8d59', marker='o',markersize=0.5,linewidth=0.0)\n",
    "l2=plt.plot(ix_carW[\"Date_IntervalStart\"],ix_carW[\"TotalVolume\"].values,\n",
    "         color='#fee090', marker='o',markersize=0.4,linewidth=0.0)\n",
    "l3=plt.plot(ix_carE[\"Date_IntervalStart\"],ix_carE[\"TotalVolume\"].values,\n",
    "         color='#d73027', marker='o',markersize=0.3,linewidth=0.0)\n",
    "\n",
    "l4=plt.plot(ix_truckN[\"Date_IntervalStart\"],ix_truckN[\"TotalVolume\"].values,\n",
    "         color='#91bfdb', marker='.',markersize=0.5,linewidth=0.0)\n",
    "l5=plt.plot(ix_truckW[\"Date_IntervalStart\"],ix_truckW[\"TotalVolume\"].values,\n",
    "         color='#4575b4', marker='.',markersize=0.4,linewidth=0.0)\n",
    "l6=plt.plot(ix_truckE[\"Date_IntervalStart\"],ix_truckE[\"TotalVolume\"].values,\n",
    "         color='#e0f3f8', marker='.',markersize=0.3,linewidth=0.0)\n",
    "\n",
    "\n",
    "plt.xlabel('Date',fontsize=24)\n",
    "plt.ylabel('Traffic Volume',fontsize=24)\n",
    "plt.yticks([0,800],fontsize=18)\n",
    "\n",
    "x1=pd.to_datetime('20090101', format='%Y%m%d')\n",
    "x2=pd.to_datetime('20190101', format='%Y%m%d')           \n",
    "plt.xticks([x1,x2],rotation=15,fontsize=18)\n",
    "\n",
    "carN = mpatches.Patch(color='#fc8d59', label='Car-N')\n",
    "carW = mpatches.Patch(color='#fee090', label='Car-W')\n",
    "carE = mpatches.Patch(color='#d73027', label='Car-E')\n",
    "truckN = mpatches.Patch(color='#91bfdb', label='Truck-N')\n",
    "truckW = mpatches.Patch(color='#4575b4', label='Truck-W')\n",
    "truckE = mpatches.Patch(color='#e0f3f8', label='Truck-E')\n",
    "plt.legend(handles=[carN,carW,carE,truckN,truckW,truckE],fontsize=12)\n",
    "\n"
   ]
  },
  {
   "cell_type": "code",
   "execution_count": null,
   "metadata": {},
   "outputs": [],
   "source": [
    "#volume=pd.Series(df[\"TotalVolume\"].values)\n",
    "plt.figure(figsize=(12,8)) \n",
    "# plt.plot(ix_carE[\"Date_IntervalStart\"],ix_carE[\"TotalVolume\"].values,\n",
    "#          color='sandybrown', marker='o',markersize=3,linewidth=0.0)\n",
    "\n",
    "# plt.plot(ix_carN[\"Date_IntervalStart\"],ix_carN[\"TotalVolume\"].values,\n",
    "#          color='moccasin', marker='o',markersize=2,linewidth=0.0)\n",
    "\n",
    "# plt.plot(ix_carW[\"Date_IntervalStart\"],ix_carW[\"TotalVolume\"].values,\n",
    "#          color='tan', marker='o',markersize=1,linewidth=0.0)\n",
    "\n",
    "plt.plot(ix_truckE[\"Date_IntervalStart\"],ix_truckE[\"TotalVolume\"].values,\n",
    "         color='#e0f3f8',marker='o',markersize=15,markerfacecoloralt='#e0f3f8',linewidth=0,alpha=1)\n",
    "\n",
    "plt.plot(ix_truckW[\"Date_IntervalStart\"],ix_truckW[\"TotalVolume\"].values,\n",
    "         color='#4575b4',marker='o',markersize=15,markerfacecoloralt='#4575b4',linewidth=0,alpha=0.5)\n",
    "\n",
    "plt.plot(ix_truckN[\"Date_IntervalStart\"],ix_truckN[\"TotalVolume\"].values,\n",
    "         color='#91bfdb',marker='o',markersize=15,markerfacecoloralt='#91bfdb',linewidth=0,alpha=1)\n",
    "\n",
    "plt.xlabel('Date',fontsize=24)\n",
    "plt.ylabel('Traffic Volume',fontsize=24)\n",
    "\n",
    "plt.yticks([0,30],fontsize=18)\n",
    "\n",
    "x1=pd.to_datetime('20171015', format='%Y%m%d')\n",
    "x2=pd.to_datetime('20171215', format='%Y%m%d')           \n",
    "\n",
    "xr = pd.date_range(start=x1, end=x2, periods=2)\n",
    "print(x1)\n",
    "plt.xticks(xr,rotation=15,fontsize=18)\n",
    "\n",
    "plt.ylim([0,30])\n",
    "plt.xlim([x1,x2])"
   ]
  },
  {
   "cell_type": "code",
   "execution_count": null,
   "metadata": {},
   "outputs": [],
   "source": [
    "# Data\n",
    "states = [\"E\", \"N\", \"W\"]\n",
    "trucks = np.array([ix_truckE[\"TotalVolume\"].sum(),\n",
    "                  ix_truckN[\"TotalVolume\"].sum(),\n",
    "                  ix_truckW[\"TotalVolume\"].sum()])\n",
    "\n",
    "cars = np.array([ix_carE[\"TotalVolume\"].sum(),\n",
    "                  ix_carN[\"TotalVolume\"].sum(),\n",
    "                  ix_carW[\"TotalVolume\"].sum()])\n",
    "\n",
    "\n",
    "# Sort by number of sales staff\n",
    "idx = cars.argsort()[::-1]\n",
    "states, trucks, cars = [np.take(x, idx) for x in [states, trucks, cars]]\n",
    "\n",
    "y = np.arange(cars.size)\n",
    "\n",
    "fig, axes = plt.subplots(ncols=2, sharey=True,figsize=(12,8))\n",
    "\n",
    "barlist=axes[1].barh(y, trucks, align='center', color='#e0f3f8', zorder=10)\n",
    "axes[1].set_title('Trucks',loc='left',fontsize=24)\n",
    "barlist[0].set_color('#91bfdb')\n",
    "barlist[1].set_color('#4575b4')\n",
    "barlist[2].set_color('#e0f3f8')\n",
    "\n",
    "barlist=axes[0].barh(y, cars, align='center', color='#d73027', zorder=10)\n",
    "#axes[0].set(title='Number of Cars')\n",
    "axes[0].set_title('Cars',loc='right',fontsize=24)\n",
    "barlist[0].set_color('#fc8d59')\n",
    "barlist[1].set_color('#fee090')\n",
    "barlist[2].set_color('#d73027')\n",
    "\n",
    " \n",
    "axes[1].set(xticks=[])\n",
    "axes[0].set(xticks=[])\n",
    "\n",
    "axes[1].set_xlim([0,54000000])\n",
    "axes[0].set_xlim([0,54000000])\n",
    "\n",
    "axes[0].invert_xaxis()\n",
    "axes[0].set(yticks=y, yticklabels=states)\n",
    "axes[0].set_yticklabels(states,fontsize=24)\n",
    "axes[0].yaxis.tick_right()\n",
    "\n",
    "axes[0].spines[\"top\"].set_visible(False)\n",
    "axes[0].spines[\"left\"].set_visible(False)\n",
    "#axes[0].spines[\"bottom\"].set_visible(False)\n",
    "\n",
    "axes[1].spines[\"top\"].set_visible(False)\n",
    "axes[1].spines[\"right\"].set_visible(False)\n",
    "#axes[1].spines[\"bottom\"].set_visible(False)\n",
    "#axes[0].axis('off')\n",
    "#axes[1].axis('off')\n",
    "\n",
    "for ax in axes.flat:\n",
    "    ax.margins(0.03)\n",
    "\n",
    "fig.tight_layout()\n",
    "fig.subplots_adjust(wspace=0.09)\n",
    "\n",
    "axes[1].text(2000000,2,\"{:,}\".format(ix_truckN[\"TotalVolume\"].sum()),fontsize=24)\n",
    "axes[1].text(6000000,1,\"{:,}\".format(ix_truckW[\"TotalVolume\"].sum()),fontsize=24)\n",
    "axes[1].text(5000000,0,\"{:,}\".format(ix_truckE[\"TotalVolume\"].sum()),fontsize=24)\n",
    "axes[1].text(-32000000,2,\"{:,}\".format(ix_carN[\"TotalVolume\"].sum()),fontsize=24)\n",
    "axes[1].text(-52000000,1,\"{:,}\".format(ix_carW[\"TotalVolume\"].sum()),fontsize=24)\n",
    "axes[1].text(-56000000,0,\"{:,}\".format(ix_carE[\"TotalVolume\"].sum()),fontsize=24)\n",
    "\n",
    "\n",
    "plt.show()\n",
    "\n"
   ]
  },
  {
   "cell_type": "code",
   "execution_count": 6,
   "metadata": {},
   "outputs": [
    {
     "data": {
      "image/png": "[encoded data removed]",
      "text/plain": [
       "<Figure size 432x288 with 1 Axes>"
      ]
     },
     "metadata": {
      "needs_background": "light"
     },
     "output_type": "display_data"
    }
   ],
   "source": [
    "plt.bar(datesTruckN, volumeTruckN, color='#91bfdb')\n",
    "plt.show()"
   ]
  },
  {
   "cell_type": "code",
   "execution_count": 4,
   "metadata": {},
   "outputs": [],
   "source": [
    "datesTruckN=ix_truckN[\"Date_IntervalStart\"]\n",
    "volumeTruckN=ix_truckN[\"TotalVolume\"].values\n",
    "\n",
    "datesTruckW=ix_truckW[\"Date_IntervalStart\"]\n",
    "volumeTruckW=ix_truckW[\"TotalVolume\"].values\n",
    "\n",
    "datesTruckE=ix_truckE[\"Date_IntervalStart\"]\n",
    "volumeTruckE=ix_truckE[\"TotalVolume\"].values\n",
    "       \n",
    "datesCarN=ix_carN[\"Date_IntervalStart\"]\n",
    "volumeCarN=ix_carN[\"TotalVolume\"].values\n",
    "\n",
    "datesCarW=ix_carW[\"Date_IntervalStart\"]\n",
    "volumeCarW=ix_carW[\"TotalVolume\"].values\n",
    "\n",
    "datesCarE=ix_carE[\"Date_IntervalStart\"]\n",
    "volumeCarE=ix_carE[\"TotalVolume\"].values"
   ]
  },
  {
   "cell_type": "code",
   "execution_count": null,
   "metadata": {},
   "outputs": [],
   "source": [
    "#volume=pd.Series(df[\"TotalVolume\"].values)\n",
    "from mpl_toolkits.mplot3d import Axes3D\n",
    "fig = plt.figure(figsize=(12,12))\n",
    "ax = fig.add_subplot(111, projection='3d')\n",
    "\n",
    "#plt.figure(figsize=(12,8)) \n",
    "\n",
    "ax.bar(datesTruckN,volumeTruckN, zs=0, zdir='y',color='#91bfdb')\n",
    "ax.bar(datesTruckW,volumeTruckW, zs=20, zdir='y',color='#4575b4')\n",
    "ax.bar(datesTruckE,volumeTruckE, zs=40, zdir='y',color='#e0f3f8')\n",
    "ax.bar(datesCarN,volumeCarN, zs=60, zdir='y',color='#fc8d59',alpha=0.1)\n",
    "ax.bar(datesCarW,volumeCarW, zs=80, zdir='y',color='#fee090',alpha=0.5)\n",
    "ax.bar(datesCarE,volumeCarE, zs=100, zdir='y',color='#d73027')\n",
    "\n",
    "\n",
    "x1=pd.to_datetime('20090615', format='%Y%m%d')\n",
    "x2=pd.to_datetime('20190101', format='%Y%m%d')           \n",
    "xr = pd.date_range(start=x1, end=x2, periods=2)\n",
    "plt.xticks(xr,rotation=15,fontsize=18)\n",
    "\n",
    "ax.set_ylabel('Gantry/Vehicle',fontsize=20)\n",
    "ax.set_xlabel('Date',fontsize=20)\n",
    "ax.set_zlabel('Traffic Volume',fontsize=20)\n",
    "\n",
    "#ax.set_zticks([0,100,200,300,400])\n",
    "\n",
    "ax.set_yticks([0,20,40,60,80,100])\n",
    "ax.set_yticklabels([\"Truck N\", \"Truck W\", \"Truck E\", \"Car N\", \"Car W\", \"Car E\"])\n",
    "#\n",
    "#plt.zticks([0,30],fontsize=18)\n",
    "#plt.xticks([0,30],fontsize=18)\n",
    "\n",
    "ax.view_init(elev=20., azim=-45)\n",
    "\n",
    "\n",
    "plt.show()\n",
    "\n",
    "\n"
   ]
  },
  {
   "cell_type": "code",
   "execution_count": null,
   "metadata": {},
   "outputs": [],
   "source": []
  }
 ],
 "metadata": {
  "kernelspec": {
   "display_name": "Python 3",
   "language": "python",
   "name": "python3"
  },
  "language_info": {
   "codemirror_mode": {
    "name": "ipython",
    "version": 3
   },
   "file_extension": ".py",
   "mimetype": "text/x-python",
   "name": "python",
   "nbconvert_exporter": "python",
   "pygments_lexer": "ipython3",
   "version": "3.7.0"
  }
 },
 "nbformat": 4,
 "nbformat_minor": 2
}

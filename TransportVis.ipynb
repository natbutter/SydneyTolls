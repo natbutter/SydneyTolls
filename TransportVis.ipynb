{
 "cells": [
  {
   "cell_type": "markdown",
   "metadata": {},
   "source": [
    "# Sydney Toll Roads - Fun for the whole family in the CCT\n",
    "All the toll data in sydney is availble for free download! How nice of them. Let's explore the data and find out some interesting insights. Firstly download the data.... This can probably be done in Python - but I find it super easy in BASH. Or you can manually download it too, but that is no fun.\n",
    "Go through the notebook and think about the interpretation for each of the visualisations. Think about how adding or removing details can help guide the message you are trying to deliver."
   ]
  },
  {
   "cell_type": "raw",
   "metadata": {},
   "source": [
    "#https://nswtollroaddata.com/data-download/\n",
    "\n",
    "#Download all CCT (2009Q2 - present) data in one go with the bash commands:\n",
    "# Out of CCT M2 LCT ED M4 M7 NCX M5E M5\n",
    "\n",
    "for TOLL in CCT; do\n",
    "  for i in $(seq $start_year $end_year); do\n",
    "    for j in {1..4}; do\n",
    "      if wget -q https://s3.ap-southeast-2.amazonaws.com/accc-assetdata-prod/data/accc/upload/asset/$TOLL/${TOLL}_traffic-data_FY${i}_Q${j}_csv.zip; then\n",
    "        echo \"$TOLL $i Q$j\"\n",
    "      else\n",
    "      echo \"No data for $TOLL $i Q$j\"\n",
    "      fi\n",
    "    done;\n",
    "  done;\n",
    "done\n",
    "\n",
    "#unzip it all\n",
    "unzip '*.zip'"
   ]
  },
  {
   "cell_type": "code",
   "execution_count": null,
   "metadata": {},
   "outputs": [],
   "source": [
    "#Import the modules we will need\n",
    "import pandas as pd\n",
    "import numpy as np\n",
    "import glob\n",
    "from matplotlib import pyplot as plt\n",
    "import matplotlib.patches as mpatches\n",
    "import matplotlib.dates as mdates"
   ]
  },
  {
   "cell_type": "code",
   "execution_count": null,
   "metadata": {},
   "outputs": [],
   "source": [
    "#Or load in more data, like all the CCT data\n",
    "all_files = glob.glob(\"data/CCT*.csv\")\n",
    "li = []\n",
    "for filename in sorted(all_files):\n",
    "    df = pd.read_csv(filename, index_col=None, header=0)\n",
    "    df['Date_IntervalStart'] = pd.to_datetime(df['Date'] + ' ' + df['IntervalStart'])\n",
    "    li.append(df)\n",
    "    \n",
    "df = pd.concat(li, axis=0, ignore_index=True)\n",
    "print(\"Done\")"
   ]
  },
  {
   "cell_type": "code",
   "execution_count": null,
   "metadata": {},
   "outputs": [],
   "source": [
    "#What does it look like?\n",
    "df.head()"
   ]
  },
  {
   "cell_type": "code",
   "execution_count": null,
   "metadata": {},
   "outputs": [],
   "source": [
    "#Get some other stats\n",
    "#df.describe()\n",
    "df.shape"
   ]
  },
  {
   "cell_type": "code",
   "execution_count": null,
   "metadata": {},
   "outputs": [],
   "source": [
    "plt.plot(df[\"Date_IntervalStart\"].values,df[\"TotalVolume\"].values)"
   ]
  },
  {
   "cell_type": "code",
   "execution_count": null,
   "metadata": {},
   "outputs": [],
   "source": [
    "#Plot all the data, just time vs volume\n",
    "plt.figure(figsize=(10,6)) \n",
    "plt.plot(df[\"Date_IntervalStart\"],df[\"TotalVolume\"].values,\n",
    "         color='black', marker='.',markersize=0.2,linewidth=0.0)\n",
    "\n",
    "plt.xlabel('Date',fontsize=12)\n",
    "plt.ylabel('Traffic Volume')\n",
    "plt.xticks(rotation=15)"
   ]
  },
  {
   "cell_type": "code",
   "execution_count": null,
   "metadata": {},
   "outputs": [],
   "source": [
    "# Note, 3 ways to print stuff in python\n",
    "period=(df[\"Date_IntervalStart\"][len(df)-1]-df[\"Date_IntervalStart\"][0]).days\n",
    "totalVolume=df[\"TotalVolume\"].sum()\n",
    "print(\"{:,} Total Trips\".format(totalVolume))\n",
    "print(\"By my count that is about\", int(totalVolume/period/24/60), \"per minute.\")\n",
    "print(f\"At ~$5 a trip, that is a good income (${totalVolume*5:,}) - just for the Cross City Tunnel.\")"
   ]
  },
  {
   "cell_type": "markdown",
   "metadata": {},
   "source": [
    "We can continue exploring this data in several different ways. We are dealing with a hefty dataset, so keep that in mind."
   ]
  },
  {
   "cell_type": "code",
   "execution_count": null,
   "metadata": {},
   "outputs": [],
   "source": [
    "import sys\n",
    "print(sys.getsizeof(df)/1024**3,\"GB\")"
   ]
  },
  {
   "cell_type": "code",
   "execution_count": null,
   "metadata": {},
   "outputs": [],
   "source": [
    "#So let's load in a single month of data\n",
    "filename='data/CCT_trips_2017-11.csv'\n",
    "dfmonth = pd.read_csv(filename, index_col=None, header=0)\n",
    "dfmonth['Date_IntervalStart'] = pd.to_datetime(dfmonth['Date'] + ' ' + dfmonth['IntervalStart'])"
   ]
  },
  {
   "cell_type": "code",
   "execution_count": null,
   "metadata": {},
   "outputs": [],
   "source": [
    "#Plot just the month of data\n",
    "plt.figure(figsize=(10,6)) \n",
    "plt.bar(dfmonth.Date_IntervalStart.values,dfmonth[\"TotalVolume\"].values,color='blue',width=0.1)\n",
    "\n",
    "plt.xlabel('Date',fontsize=18)\n",
    "plt.ylabel('Traffic Volume',fontsize=18)\n",
    "\n",
    "x1=pd.to_datetime('20171101', format='%Y%m%d')\n",
    "x2=pd.to_datetime('20171108', format='%Y%m%d') \n",
    "x3=pd.to_datetime('20171115', format='%Y%m%d') \n",
    "x4=pd.to_datetime('20171122', format='%Y%m%d') \n",
    "x5=pd.to_datetime('20171129', format='%Y%m%d') \n",
    "\n",
    "plt.xticks([x1,x2,x3,x4,x5],rotation=15,fontsize=16)\n",
    "ax = plt.gca()\n",
    "ax.xaxis.set_major_formatter(mdates.DateFormatter('%d-%m-%Y'))\n",
    "\n",
    "plt.show()"
   ]
  },
  {
   "cell_type": "code",
   "execution_count": null,
   "metadata": {},
   "outputs": [],
   "source": [
    "#Plot the rolling average\n",
    "plt.figure(figsize=(10,6)) \n",
    "\n",
    "#4x15 minute points in 1 hour, x 24 hours in 1 day, x 7 days in 1 week\n",
    "plt.plot(dfmonth.Date_IntervalStart.values,dfmonth.TotalVolume.rolling(4*24*7).mean(),color='blue')\n",
    "\n",
    "plt.xlabel('Date',fontsize=18)\n",
    "plt.ylabel('Traffic Volume 1 week rolling average',fontsize=18)\n",
    "\n",
    "x1=pd.to_datetime('20171101', format='%Y%m%d') \n",
    "x2=pd.to_datetime('20171129', format='%Y%m%d') \n",
    "\n",
    "xr = pd.date_range(start=x1, end=x2, periods=6)\n",
    "plt.xticks(xr,rotation=15,fontsize=16)\n",
    "\n",
    "ax = plt.gca()\n",
    "ax.xaxis.set_major_formatter(mdates.DateFormatter('%d-%m-%Y'))\n",
    "\n",
    "plt.show()"
   ]
  },
  {
   "cell_type": "markdown",
   "metadata": {},
   "source": [
    "Are there more insigts we can get from this already?\n",
    "Let's look at the full dataset again, but break it down into some kind of interesting subset."
   ]
  },
  {
   "cell_type": "code",
   "execution_count": null,
   "metadata": {},
   "outputs": [],
   "source": [
    "df.GantryDirection.unique() \n",
    "# Traffic can be tolled going east, west, or north"
   ]
  },
  {
   "cell_type": "code",
   "execution_count": null,
   "metadata": {},
   "outputs": [],
   "source": [
    "#Set the index to the date\n",
    "df.set_index(\"Date_IntervalStart\",inplace=True)\n",
    "#Break up the data into interesting pieces.\n",
    "#Trucks or Cars, and where they have joined the tunnel\n",
    "ix_car=df.loc[(df['VehicleClass']=='Car')]\n",
    "ix_truck=df.loc[(df['VehicleClass']=='Truck')]\n",
    "\n",
    "ix_carE=df.loc[(df['VehicleClass']=='Car') & (df['GantryDirection']=='E')]\n",
    "ix_carN=df.loc[(df['VehicleClass']=='Car') & (df['GantryDirection']=='N')]\n",
    "ix_carW=df.loc[(df['VehicleClass']=='Car') & (df['GantryDirection']=='W')]\n",
    "\n",
    "ix_truckE=df.loc[(df['VehicleClass']=='Truck') & (df['GantryDirection']=='E')]\n",
    "ix_truckN=df.loc[(df['VehicleClass']=='Truck') & (df['GantryDirection']=='N')]\n",
    "ix_truckW=df.loc[(df['VehicleClass']=='Truck') & (df['GantryDirection']=='W')]"
   ]
  },
  {
   "cell_type": "code",
   "execution_count": null,
   "metadata": {},
   "outputs": [],
   "source": [
    "#Now make the same plot again, but plot each car/truck/entry seperately\n",
    "\n",
    "#volume=pd.Series(df[\"TotalVolume\"].values)\n",
    "plt.figure(figsize=(10,6)) \n",
    "\n",
    "l1=plt.plot(ix_carN[\"TotalVolume\"],\n",
    "         color='#fc8d59', marker='o',markersize=0.5,linewidth=0.0)\n",
    "l2=plt.plot(ix_carW[\"TotalVolume\"],\n",
    "         color='#fee090', marker='o',markersize=0.4,linewidth=0.0)\n",
    "l3=plt.plot(ix_carE[\"TotalVolume\"],\n",
    "         color='#d73027', marker='o',markersize=0.3,linewidth=0.0)\n",
    "\n",
    "l4=plt.plot(ix_truckN[\"TotalVolume\"],\n",
    "         color='#91bfdb', marker='.',markersize=0.5,linewidth=0.0)\n",
    "l5=plt.plot(ix_truckW[\"TotalVolume\"],\n",
    "         color='#4575b4', marker='.',markersize=0.4,linewidth=0.0)\n",
    "l6=plt.plot(ix_truckE[\"TotalVolume\"],\n",
    "         color='#e0f3f8', marker='.',markersize=0.3,linewidth=0.0)\n",
    "\n",
    "\n",
    "plt.xlabel('Date',fontsize=24)\n",
    "plt.ylabel('Traffic Volume',fontsize=24)\n",
    "plt.yticks([0,800],fontsize=18)\n",
    "\n",
    "x1=pd.to_datetime('20090101', format='%Y%m%d')\n",
    "x2=pd.to_datetime('20190101', format='%Y%m%d') \n",
    "\n",
    "plt.xticks([x1,x2],rotation=15,fontsize=18)\n",
    "\n",
    "carN = mpatches.Patch(color='#fc8d59', label='Car-N')\n",
    "carW = mpatches.Patch(color='#fee090', label='Car-W')\n",
    "carE = mpatches.Patch(color='#d73027', label='Car-E')\n",
    "truckN = mpatches.Patch(color='#91bfdb', label='Truck-N')\n",
    "truckW = mpatches.Patch(color='#4575b4', label='Truck-W')\n",
    "truckE = mpatches.Patch(color='#e0f3f8', label='Truck-E')\n",
    "plt.legend(handles=[carN,carW,carE,truckN,truckW,truckE],fontsize=12)\n"
   ]
  },
  {
   "cell_type": "code",
   "execution_count": null,
   "metadata": {},
   "outputs": [],
   "source": [
    "fig, ax = plt.subplots(figsize=(10, 6))\n",
    "\n",
    "# Set the range of interest\n",
    "x1=pd.to_datetime('20200115', format='%Y%m%d')\n",
    "x2=pd.to_datetime('20200615', format='%Y%m%d')\n",
    "\n",
    "# Define the x-axis values for the bar chart\n",
    "x_values = ix_carW.loc[x1:x2].index.to_frame().index.values\n",
    "\n",
    "# Define the y-axis values for each bar\n",
    "y_values_w = ix_carW.loc[x1:x2][\"TotalVolume\"]\n",
    "y_values_n = ix_carN.loc[x1:x2][\"TotalVolume\"]\n",
    "y_values_e = ix_carE.loc[x1:x2][\"TotalVolume\"]\n",
    "\n",
    "# Plot the stacked bar chart\n",
    "ax.bar(x_values, y_values_e, bottom=y_values_w+y_values_n, label='Car-East',color='#d73027',width=0.5)\n",
    "ax.bar(x_values, y_values_n, bottom=y_values_w, label='Car-North',color='#fc8d59',width=0.5)\n",
    "ax.bar(x_values, y_values_w, label='Car-West', color='#fee090',width=0.5)\n",
    "\n",
    "# Set the chart title and axis labels\n",
    "ax.set_title('Total Volume by Direction', fontsize=24)\n",
    "ax.set_xlabel('Date',fontsize=24)\n",
    "ax.set_ylabel('Total Volume',fontsize=24)\n",
    "\n",
    "# Add a legend to the chart\n",
    "ax.legend()\n",
    "\n",
    "xr = pd.date_range(start=x1, end=x2, periods=6)\n",
    "print(x1)\n",
    "plt.xticks(xr,rotation=15,fontsize=18)\n",
    "\n",
    "# Show the chart\n",
    "plt.show()"
   ]
  },
  {
   "cell_type": "code",
   "execution_count": null,
   "metadata": {},
   "outputs": [],
   "source": [
    "#volume=pd.Series(df[\"TotalVolume\"].values)\n",
    "plt.figure(figsize=(10,6)) \n",
    "\n",
    "# Define the x-axis values for the bar chart\n",
    "x_values = ix_truckW.loc[x1:x2].index.to_frame().index.values\n",
    "\n",
    "#Restrict the axis, so we don't waste time plotting the the whole dataset.\n",
    "x1=pd.to_datetime('20200115', format='%Y%m%d')\n",
    "x2=pd.to_datetime('20200615', format='%Y%m%d')\n",
    "\n",
    "plt.bar(x_values,ix_truckW.loc[x1:x2][\"TotalVolume\"],\n",
    "        color='#e0f3f8',bottom=ix_truckN.loc[x1:x2][\"TotalVolume\"]+ix_truckE.loc[x1:x2][\"TotalVolume\"],label='Truck-W')\n",
    "\n",
    "plt.bar(x_values,ix_truckN.loc[x1:x2][\"TotalVolume\"],\n",
    "        color='#4575b4',bottom=ix_truckE.loc[x1:x2][\"TotalVolume\"],label='Truck-N')\n",
    "\n",
    "plt.bar(x_values,ix_truckE.loc[x1:x2][\"TotalVolume\"],\n",
    "        color='#91bfdb',label='Truck-E')\n",
    "\n",
    "plt.xlabel('Date',fontsize=24)\n",
    "plt.ylabel('Traffic Volume',fontsize=24)\n",
    "\n",
    "plt.yticks([0,20,40,60],fontsize=18)        \n",
    "\n",
    "xr = pd.date_range(start=x1, end=x2, periods=6)\n",
    "print(x1)\n",
    "plt.xticks(xr,rotation=15,fontsize=18)\n",
    "\n",
    "#plt.ylim([0,30])\n",
    "plt.xlim([x1,x2])\n",
    "\n",
    "plt.legend()"
   ]
  },
  {
   "cell_type": "code",
   "execution_count": null,
   "metadata": {},
   "outputs": [],
   "source": [
    "#Plot some totals in a different way (population pyramid/butterfly chart/tornado plot).\n",
    "\n",
    "# Data\n",
    "states = [\"E\", \"N\", \"W\"]\n",
    "trucks = np.array([ix_truckE[\"TotalVolume\"].sum(),\n",
    "                  ix_truckN[\"TotalVolume\"].sum(),\n",
    "                  ix_truckW[\"TotalVolume\"].sum()])\n",
    "\n",
    "cars = np.array([ix_carE[\"TotalVolume\"].sum(),\n",
    "                  ix_carN[\"TotalVolume\"].sum(),\n",
    "                  ix_carW[\"TotalVolume\"].sum()])\n",
    "\n",
    "\n",
    "# Sort by number of sales staff\n",
    "idx = cars.argsort()[::-1]\n",
    "states, trucks, cars = [np.take(x, idx) for x in [states, trucks, cars]]\n",
    "\n",
    "y = np.arange(cars.size)\n",
    "\n",
    "fig, axes = plt.subplots(ncols=2, sharey=True,figsize=(12,8))\n",
    "\n",
    "barlist=axes[1].barh(y, trucks, align='center', color='#e0f3f8', zorder=10)\n",
    "axes[1].set_title('Trucks',loc='left',fontsize=24)\n",
    "barlist[0].set_color('#91bfdb')\n",
    "barlist[1].set_color('#4575b4')\n",
    "barlist[2].set_color('#e0f3f8')\n",
    "\n",
    "barlist=axes[0].barh(y, cars, align='center', color='#d73027', zorder=10)\n",
    "#axes[0].set(title='Number of Cars')\n",
    "axes[0].set_title('Cars',loc='right',fontsize=24)\n",
    "barlist[0].set_color('#d73027')\n",
    "barlist[1].set_color('#fc8d59')\n",
    "barlist[2].set_color('#fee090')\n",
    " \n",
    "axes[1].set(xticks=[])\n",
    "axes[0].set(xticks=[])\n",
    "\n",
    "axes[1].set_xlim([0,54000000])\n",
    "axes[0].set_xlim([0,54000000])\n",
    "\n",
    "axes[0].invert_xaxis()\n",
    "axes[0].set(yticks=y, yticklabels=states)\n",
    "axes[0].set_yticklabels(states,fontsize=24)\n",
    "axes[0].yaxis.tick_right()\n",
    "\n",
    "axes[0].spines[\"top\"].set_visible(False)\n",
    "axes[0].spines[\"left\"].set_visible(False)\n",
    "#axes[0].spines[\"bottom\"].set_visible(False)\n",
    "\n",
    "axes[1].spines[\"top\"].set_visible(False)\n",
    "axes[1].spines[\"right\"].set_visible(False)\n",
    "#axes[1].spines[\"bottom\"].set_visible(False)\n",
    "#axes[0].axis('off')\n",
    "#axes[1].axis('off')\n",
    "\n",
    "for ax in axes.flat:\n",
    "    ax.margins(0.03)\n",
    "\n",
    "fig.tight_layout()\n",
    "fig.subplots_adjust(wspace=0.09)\n",
    "\n",
    "axes[1].text(2000000,2,\"{:,}\".format(ix_truckN[\"TotalVolume\"].sum()),fontsize=24)\n",
    "axes[1].text(6000000,1,\"{:,}\".format(ix_truckW[\"TotalVolume\"].sum()),fontsize=24)\n",
    "axes[1].text(5000000,0,\"{:,}\".format(ix_truckE[\"TotalVolume\"].sum()),fontsize=24)\n",
    "axes[1].text(-32000000,2,\"{:,}\".format(ix_carN[\"TotalVolume\"].sum()),fontsize=24)\n",
    "axes[1].text(-52000000,1,\"{:,}\".format(ix_carW[\"TotalVolume\"].sum()),fontsize=24)\n",
    "axes[1].text(-56000000,0,\"{:,}\".format(ix_carE[\"TotalVolume\"].sum()),fontsize=24)\n",
    "\n",
    "plt.show()"
   ]
  },
  {
   "cell_type": "code",
   "execution_count": null,
   "metadata": {},
   "outputs": [],
   "source": []
  },
  {
   "cell_type": "code",
   "execution_count": null,
   "metadata": {},
   "outputs": [],
   "source": []
  }
 ],
 "metadata": {
  "kernelspec": {
   "display_name": "Python 3 (ipykernel)",
   "language": "python",
   "name": "python3"
  },
  "language_info": {
   "codemirror_mode": {
    "name": "ipython",
    "version": 3
   },
   "file_extension": ".py",
   "mimetype": "text/x-python",
   "name": "python",
   "nbconvert_exporter": "python",
   "pygments_lexer": "ipython3",
   "version": "3.12.4"
  }
 },
 "nbformat": 4,
 "nbformat_minor": 4
}

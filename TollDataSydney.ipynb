{
 "cells": [
  {
   "cell_type": "code",
   "execution_count": null,
   "metadata": {},
   "outputs": [],
   "source": [
    "import pandas as pd\n",
    "import numpy as np\n",
    "import glob\n",
    "from matplotlib import pyplot as plt\n",
    "import time\n",
    "from mpl_toolkits.axes_grid1 import make_axes_locatable"
   ]
  },
  {
   "cell_type": "code",
   "execution_count": null,
   "metadata": {},
   "outputs": [],
   "source": [
    "#Or load in allllll the data\n",
    "t1=time.time()\n",
    "all_files = glob.glob(\"data/*.csv\")\n",
    "li = []\n",
    "for filename in all_files:\n",
    "    print(filename)\n",
    "    df = pd.read_csv(filename, index_col=None, header=0,parse_dates=[['Date', 'IntervalStart']])\n",
    "    li.append(df)\n",
    "    \n",
    "df = pd.concat(li, axis=0, ignore_index=True)\n",
    "t2=time.time()\n",
    "print(\"Time to Load:\", t2-t1)"
   ]
  },
  {
   "cell_type": "markdown",
   "metadata": {},
   "source": [
    "Let's look at the some of the data ,just to get a feel of it. \n",
    "\n",
    "What are we working with?\n",
    "\n",
    "Is it a timeseries? Spatial? XYZ? Labels? Classes? Bit of everything? "
   ]
  },
  {
   "cell_type": "code",
   "execution_count": null,
   "metadata": {},
   "outputs": [],
   "source": [
    "df.head()"
   ]
  },
  {
   "cell_type": "code",
   "execution_count": null,
   "metadata": {},
   "outputs": [],
   "source": [
    "df.describe()"
   ]
  },
  {
   "cell_type": "code",
   "execution_count": null,
   "metadata": {},
   "outputs": [],
   "source": [
    "\"Yikes! That is {:,} total trips on sydney Toll roads (not including M5) since 2009\".format(df[\"TotalVolume\"].sum())"
   ]
  },
  {
   "cell_type": "markdown",
   "metadata": {},
   "source": [
    "Let's plot all the 36,447,919 rows of data. Quite a few different ways to plot this...."
   ]
  },
  {
   "cell_type": "code",
   "execution_count": null,
   "metadata": {},
   "outputs": [],
   "source": [
    "#Start with a simple time vs volume plot. \n",
    "#This will give us a general overview for when are the busy times. \n",
    "#But a lot of details are overprinted and lost in the scope of the data\n",
    "plt.figure(figsize=(12,8)) \n",
    "plt.plot(df[\"Date_IntervalStart\"],df[\"TotalVolume\"].values,\n",
    "         color='black', marker='.',markersize=0.2,linewidth=0.0)\n",
    "\n",
    "plt.xlabel('Date',fontsize=12)\n",
    "plt.ylabel('Traffic Volume')\n",
    "plt.xticks(rotation=15)\n",
    "\n",
    "plt.show()"
   ]
  },
  {
   "cell_type": "markdown",
   "metadata": {},
   "source": [
    "There are some NaNs in the data, so let's just ditch them."
   ]
  },
  {
   "cell_type": "code",
   "execution_count": null,
   "metadata": {},
   "outputs": [],
   "source": [
    "df=df.dropna()\n",
    "print(\"Dataframe shape: \",df.shape)"
   ]
  },
  {
   "cell_type": "markdown",
   "metadata": {},
   "source": [
    "There are also some weird point locations that are apparently at lat/lon 0,0. I don't believe it, so ditch them too."
   ]
  },
  {
   "cell_type": "code",
   "execution_count": null,
   "metadata": {},
   "outputs": [],
   "source": [
    "plt.plot(df[\"GantryGPSLongitude\"].values)\n",
    "plt.show()\n",
    "\n",
    "df=df[df.GantryGPSLongitude != 0]\n",
    "print(\"Dataframe shape: \",df.shape)\n",
    "\n",
    "# plt.plot(df[\"GantryGPSLongitude\"].values)\n",
    "# plt.show()"
   ]
  },
  {
   "cell_type": "markdown",
   "metadata": {},
   "source": [
    "What is a useful way to represent the data?\n",
    "\n",
    "We have a bunch of toll points. We have a time series representing how busy each point is?"
   ]
  },
  {
   "cell_type": "code",
   "execution_count": null,
   "metadata": {},
   "outputs": [],
   "source": [
    "#Get a list of the Toll poin names\n",
    "gantryUnique=df[\"GantryLocation\"].unique()"
   ]
  },
  {
   "cell_type": "code",
   "execution_count": null,
   "metadata": {},
   "outputs": [],
   "source": [
    "#Now find the total volume of cars passing through each toll point\n",
    "gantSums=np.zeros([len(gantryUnique),3])\n",
    "for i,gant in enumerate(gantryUnique):\n",
    "    print(i,gant)\n",
    "    gantSum=df[df[\"GantryLocation\"]==gant].TotalVolume.sum()\n",
    "    gidx=df[df.GantryLocation==gant].first_valid_index()\n",
    "    idxLat=df.loc[gidx].GantryGPSLatitude\n",
    "    idxLon=df.loc[gidx].GantryGPSLongitude\n",
    "    gantSums[i,0]=idxLat\n",
    "    gantSums[i,1]=idxLon\n",
    "    gantSums[i,2]=gantSum\n",
    "\n",
    "print(gantSums)"
   ]
  },
  {
   "cell_type": "code",
   "execution_count": null,
   "metadata": {},
   "outputs": [],
   "source": [
    "#Set up the figure\n",
    "fig=plt.figure(figsize=(16,10)) \n",
    "ax = plt.subplot(111)\n",
    "plt.title(\"Sydney Toll Road Gantry Use\",fontsize=24)\n",
    "\n",
    "#Set up the base map, \n",
    "#coordinates are from the orignal image output from Mobile Atlas Creator .png and .map oziexplore format.\n",
    "#Data is from OpenStreetMap\n",
    "img_extent = (150.732422,151.347313,-34.015957,-33.651208)\n",
    "fname=\"Sydney.png\"\n",
    "img = plt.imread(fname)\n",
    "\n",
    "#Plot the Base map\n",
    "plt.imshow(img, origin='upper', extent=img_extent,zorder=0)\n",
    "\n",
    "#Plot the toll points\n",
    "tolls=plt.scatter(gantSums[:,1],gantSums[:,0],c=gantSums[:,2],s=160,cmap='inferno_r',edgecolors='k')\n",
    "\n",
    "#Add all other figure stuff\n",
    "divider = make_axes_locatable(ax)\n",
    "cax = divider.append_axes(\"right\", size=\"2%\", pad=0.05)\n",
    "cbar=plt.colorbar(tolls, cax=cax)\n",
    "cbar.set_label('Number of Cars',fontsize=20)\n",
    "#plt.clim(0,2000000)\n",
    "\n",
    "#Clean up the default axis ticks\n",
    "ax.set_xticks([150.8,151.3])\n",
    "ax.set_yticks([-34.0,-33.7])\n",
    "\n",
    "#Put labels on the figure\n",
    "ax.set_xlabel('Longitude',fontsize=20)\n",
    "ax.set_ylabel('Latitude',fontsize=20)\n",
    "\n",
    "plt.show()"
   ]
  },
  {
   "cell_type": "code",
   "execution_count": null,
   "metadata": {},
   "outputs": [],
   "source": [
    "dfsort = df.sort_index()"
   ]
  },
  {
   "cell_type": "code",
   "execution_count": null,
   "metadata": {},
   "outputs": [],
   "source": [
    "dfshort=dfsort[(dfsort.Date_IntervalStart>'2018-01-01 00:00:00') & (dfsort.Date_IntervalStart<'2019-01-01 00:00:00')]"
   ]
  },
  {
   "cell_type": "code",
   "execution_count": null,
   "metadata": {},
   "outputs": [],
   "source": [
    "#Get a list of the Toll poin names\n",
    "gantryUnique=dfshort[\"GantryLocation\"].unique()\n",
    "\n",
    "#Now find the total volume of cars passing through each toll point\n",
    "gantSums=np.zeros([len(gantryUnique),3])\n",
    "for i,gant in enumerate(gantryUnique):\n",
    "    print(i,gant)\n",
    "    gantSum=dfshort[dfshort[\"GantryLocation\"]==gant].TotalVolume.sum()\n",
    "    gidx=dfshort[dfshort.GantryLocation==gant].first_valid_index()\n",
    "    idxLat=dfshort.loc[gidx].GantryGPSLatitude\n",
    "    idxLon=dfshort.loc[gidx].GantryGPSLongitude\n",
    "    gantSums[i,0]=idxLat\n",
    "    gantSums[i,1]=idxLon\n",
    "    gantSums[i,2]=gantSum\n",
    "\n",
    "print(gantSums)\n",
    "print(np.sum(gantSums[:,2]))"
   ]
  },
  {
   "cell_type": "code",
   "execution_count": null,
   "metadata": {},
   "outputs": [],
   "source": [
    "fig=plt.figure(figsize=(16,10)) \n",
    "ax = plt.subplot(111)\n",
    "plt.title(\"Sydney Toll Road Gantry Use for 2018\",fontsize=24)\n",
    "\n",
    "#Set up the base map, coordinates are from the orignal image output from Mobile Atlas Creator .png and .map oziexplore format\n",
    "img_extent = (150.732422,151.347313,-34.015957,-33.651208)\n",
    "fname=\"Sydney.png\"\n",
    "img = plt.imread(fname)\n",
    "\n",
    "#Plot the Base map\n",
    "plt.imshow(img, origin='upper', extent=img_extent,zorder=0)\n",
    "\n",
    "#Plot the toll points\n",
    "tolls=plt.scatter(gantSums[:,1],gantSums[:,0],c=gantSums[:,2],s=160,cmap='inferno_r',edgecolors='k')\n",
    "\n",
    "#Add all other figure stuff\n",
    "divider = make_axes_locatable(ax)\n",
    "cax = divider.append_axes(\"right\", size=\"2%\", pad=0.05)\n",
    "cbar=plt.colorbar(tolls, cax=cax)\n",
    "cbar.set_label('Number of Cars',fontsize=20)\n",
    "#plt.clim(0,2000000)\n",
    "\n",
    "#Clean up the default axis ticks\n",
    "ax.set_xticks([150.8,151.3])\n",
    "ax.set_yticks([-34.0,-33.7])\n",
    "\n",
    "#Put labels on the figure\n",
    "ax.set_xlabel('Longitude',fontsize=20)\n",
    "ax.set_ylabel('Latitude',fontsize=20)\n",
    "\n",
    "plt.show()"
   ]
  },
  {
   "cell_type": "code",
   "execution_count": null,
   "metadata": {},
   "outputs": [],
   "source": []
  },
  {
   "cell_type": "code",
   "execution_count": null,
   "metadata": {},
   "outputs": [],
   "source": []
  },
  {
   "cell_type": "code",
   "execution_count": null,
   "metadata": {},
   "outputs": [],
   "source": []
  },
  {
   "cell_type": "code",
   "execution_count": null,
   "metadata": {},
   "outputs": [],
   "source": []
  },
  {
   "cell_type": "markdown",
   "metadata": {},
   "source": [
    "### Some other things I started with..."
   ]
  },
  {
   "cell_type": "code",
   "execution_count": null,
   "metadata": {},
   "outputs": [],
   "source": []
  },
  {
   "cell_type": "code",
   "execution_count": null,
   "metadata": {},
   "outputs": [],
   "source": [
    "plt.figure(figsize=(12,8)) \n",
    "\n",
    "x=df[\"GantryGPSLongitude\"].values\n",
    "y=df[\"GantryGPSLatitude\"].values\n",
    "\n",
    "heatmap, xedges, yedges = np.histogram2d(x, y, bins=100)\n",
    "\n",
    "extent = [xedges[0], xedges[-1], yedges[0], yedges[-1]]\n",
    "\n",
    "plt.clf()\n",
    "plt.imshow(heatmap.T, extent=extent, origin='lower',cmap='inferno')\n",
    "plt.show()"
   ]
  },
  {
   "cell_type": "code",
   "execution_count": null,
   "metadata": {},
   "outputs": [],
   "source": [
    "heatmap0 = np.ma.masked_where(heatmap == 0, heatmap)"
   ]
  },
  {
   "cell_type": "code",
   "execution_count": null,
   "metadata": {},
   "outputs": [],
   "source": [
    "lons=np.linspace(yedges[0], yedges[-1],100)\n",
    "lats=np.linspace(xedges[0], xedges[-1],100)\n",
    "xv, yv = np.meshgrid(lons, lats)\n",
    "\n",
    "lon=yv.flatten()\n",
    "lat=xv.flatten()\n",
    "use=heatmap0.flatten()"
   ]
  },
  {
   "cell_type": "code",
   "execution_count": null,
   "metadata": {},
   "outputs": [],
   "source": [
    "plt.scatter(lon,lat,c=use)"
   ]
  },
  {
   "cell_type": "code",
   "execution_count": null,
   "metadata": {},
   "outputs": [],
   "source": [
    "plt.figure(figsize=(12,8)) \n",
    "extent = [xedges[0], xedges[-1], yedges[0], yedges[-1]]\n",
    "extent= (150.644531, 151.347656, -34.089061,-33.651208)\n",
    "plt.clf()\n",
    "plt.imshow(heatmap0.T, extent=extent, origin='lower',cmap='inferno')\n",
    "plt.show()"
   ]
  },
  {
   "cell_type": "code",
   "execution_count": null,
   "metadata": {},
   "outputs": [],
   "source": []
  }
 ],
 "metadata": {
  "kernelspec": {
   "display_name": "Python 3",
   "language": "python",
   "name": "python3"
  },
  "language_info": {
   "codemirror_mode": {
    "name": "ipython",
    "version": 3
   },
   "file_extension": ".py",
   "mimetype": "text/x-python",
   "name": "python",
   "nbconvert_exporter": "python",
   "pygments_lexer": "ipython3",
   "version": "3.7.0"
  }
 },
 "nbformat": 4,
 "nbformat_minor": 2
}
